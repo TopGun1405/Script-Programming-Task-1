{
 "cells": [
  {
   "cell_type": "markdown",
   "id": "f19ced41",
   "metadata": {},
   "source": [
    "---"
   ]
  },
  {
   "cell_type": "markdown",
   "id": "da421e64",
   "metadata": {},
   "source": [
    "## 2020136006학번 국건"
   ]
  },
  {
   "cell_type": "markdown",
   "id": "2882d958",
   "metadata": {},
   "source": [
    "---"
   ]
  },
  {
   "cell_type": "markdown",
   "id": "0e4cd720",
   "metadata": {},
   "source": [
    "### 1. a=\"Hello Python\" 문자열을 Slicing과 연결 연산자 (+)를 사용하여 \"Python Hello\"로 변경하시오.\n",
    "- [주의] a 변수 자체에 \"Python Hello\" 문자열이 저장되어야 함"
   ]
  },
  {
   "cell_type": "code",
   "execution_count": 25,
   "id": "434c7bea",
   "metadata": {
    "scrolled": false
   },
   "outputs": [
    {
     "name": "stdout",
     "output_type": "stream",
     "text": [
      "Python Hello\n"
     ]
    }
   ],
   "source": [
    "a = \"Hello Python\"\n",
    "\n",
    "a = a[6 : ] + \" \" + a[ : 5]\n",
    "print(a)"
   ]
  },
  {
   "cell_type": "markdown",
   "id": "1a72a2d9",
   "metadata": {},
   "source": [
    "---"
   ]
  },
  {
   "cell_type": "markdown",
   "id": "3bf78065",
   "metadata": {},
   "source": [
    "### 2. b=\"Hello Python World\" 문자열을 Slicing과 연결 연산자 (+)를 사용하여 \"World Python Hello\"로 변경하시오.\n",
    "- [주의] b 변수 자체에 \"World Python Hello\" 문자열이 저장되어야 함"
   ]
  },
  {
   "cell_type": "code",
   "execution_count": 26,
   "id": "fe1aa39a",
   "metadata": {
    "scrolled": false
   },
   "outputs": [
    {
     "name": "stdout",
     "output_type": "stream",
     "text": [
      "World Python Hello\n"
     ]
    }
   ],
   "source": [
    "b = \"Hello Python World\"\n",
    "\n",
    "b = b[13 : ] + \" \" + b[6 : 12] + \" \" + b[ : 5]\n",
    "print(b)"
   ]
  },
  {
   "cell_type": "markdown",
   "id": "a31cc509",
   "metadata": {},
   "source": [
    "---"
   ]
  },
  {
   "cell_type": "markdown",
   "id": "f6be2370",
   "metadata": {},
   "source": [
    "### 3. c=\"Hello\"를 \"olleH\"로 변경하시오.\n",
    "- [주의] c 변수 자체에 \"olleH\" 문자열이 저장되어야 함"
   ]
  },
  {
   "cell_type": "code",
   "execution_count": 27,
   "id": "5fd2a8f1",
   "metadata": {},
   "outputs": [
    {
     "name": "stdout",
     "output_type": "stream",
     "text": [
      "olleH\n"
     ]
    }
   ],
   "source": [
    "c = \"Hello\"\n",
    "\n",
    "c = c[ : : -1]\n",
    "print(c)"
   ]
  },
  {
   "cell_type": "markdown",
   "id": "781a186c",
   "metadata": {},
   "source": [
    "---"
   ]
  },
  {
   "cell_type": "markdown",
   "id": "5587e356",
   "metadata": {},
   "source": [
    "### 4. s=\"python\"에 대해 다음 문제를 풀어보시오."
   ]
  },
  {
   "cell_type": "markdown",
   "id": "6536c4d7",
   "metadata": {},
   "source": [
    "### 4.A. s[0], s[0][0], s[0][0][0]은 각각 어떤 값이 나오는지 확인하고 그 이유를 나름대로 설명해 보시오."
   ]
  },
  {
   "cell_type": "code",
   "execution_count": 300,
   "id": "0547b6a7",
   "metadata": {},
   "outputs": [
    {
     "name": "stdout",
     "output_type": "stream",
     "text": [
      "p p p\n"
     ]
    }
   ],
   "source": [
    "s = \"python\"\n",
    "\n",
    "print(s[0], s[0][0], s[0][0][0])"
   ]
  },
  {
   "cell_type": "markdown",
   "id": "0e54eb4e",
   "metadata": {},
   "source": [
    "- s[0][1]은 오류가 발생하는 것을 보면 s[0]은 1차원, s[0][0]은 2차원, s[0][0][0]은 3차원으로 볼 때 x, y, z 인덱스가 0의 값인 p가 출력되는 것이다."
   ]
  },
  {
   "cell_type": "markdown",
   "id": "bdccbff8",
   "metadata": {},
   "source": [
    "---"
   ]
  },
  {
   "cell_type": "markdown",
   "id": "74ce2c63",
   "metadata": {},
   "source": [
    "### 4.B. s[-100], s[100]은 값이 나오는지 에러가 나오는지 확인하고 그 결과에 대한 이유를 나름대로 설명해 보시오."
   ]
  },
  {
   "cell_type": "code",
   "execution_count": 30,
   "id": "55d7f7b6",
   "metadata": {},
   "outputs": [
    {
     "ename": "IndexError",
     "evalue": "string index out of range",
     "output_type": "error",
     "traceback": [
      "\u001b[1;31m---------------------------------------------------------------------------\u001b[0m",
      "\u001b[1;31mIndexError\u001b[0m                                Traceback (most recent call last)",
      "\u001b[1;32m<ipython-input-30-4aec0e2e2d64>\u001b[0m in \u001b[0;36m<module>\u001b[1;34m\u001b[0m\n\u001b[0;32m      1\u001b[0m \u001b[0ms\u001b[0m \u001b[1;33m=\u001b[0m \u001b[1;34m\"python\"\u001b[0m\u001b[1;33m\u001b[0m\u001b[1;33m\u001b[0m\u001b[0m\n\u001b[0;32m      2\u001b[0m \u001b[1;33m\u001b[0m\u001b[0m\n\u001b[1;32m----> 3\u001b[1;33m \u001b[0mprint\u001b[0m\u001b[1;33m(\u001b[0m\u001b[0ms\u001b[0m\u001b[1;33m[\u001b[0m\u001b[1;33m-\u001b[0m\u001b[1;36m100\u001b[0m\u001b[1;33m]\u001b[0m\u001b[1;33m,\u001b[0m \u001b[0ms\u001b[0m\u001b[1;33m[\u001b[0m\u001b[1;36m100\u001b[0m\u001b[1;33m]\u001b[0m\u001b[1;33m)\u001b[0m\u001b[1;33m\u001b[0m\u001b[1;33m\u001b[0m\u001b[0m\n\u001b[0m",
      "\u001b[1;31mIndexError\u001b[0m: string index out of range"
     ]
    }
   ],
   "source": [
    "s = \"python\"\n",
    "\n",
    "print(s[-100], s[100])"
   ]
  },
  {
   "cell_type": "markdown",
   "id": "331077bd",
   "metadata": {},
   "source": [
    "- -100과 100이 s의 인덱스 범위를 넘어갔기 때문에 에러가 발생했다.\n",
    "---"
   ]
  },
  {
   "cell_type": "markdown",
   "id": "afbb1223",
   "metadata": {},
   "source": [
    "### 4.C. s[-100, 100]은 값이 나오는지 에러가 나오는지 확인하고 그 결과에 대한 이유를 나름대로 설명해 보시오."
   ]
  },
  {
   "cell_type": "code",
   "execution_count": 31,
   "id": "ccf0b1e2",
   "metadata": {},
   "outputs": [
    {
     "ename": "TypeError",
     "evalue": "string indices must be integers",
     "output_type": "error",
     "traceback": [
      "\u001b[1;31m---------------------------------------------------------------------------\u001b[0m",
      "\u001b[1;31mTypeError\u001b[0m                                 Traceback (most recent call last)",
      "\u001b[1;32m<ipython-input-31-912f7075e38d>\u001b[0m in \u001b[0;36m<module>\u001b[1;34m\u001b[0m\n\u001b[0;32m      1\u001b[0m \u001b[0ms\u001b[0m \u001b[1;33m=\u001b[0m \u001b[1;34m\"python\"\u001b[0m\u001b[1;33m\u001b[0m\u001b[1;33m\u001b[0m\u001b[0m\n\u001b[0;32m      2\u001b[0m \u001b[1;33m\u001b[0m\u001b[0m\n\u001b[1;32m----> 3\u001b[1;33m \u001b[0mprint\u001b[0m\u001b[1;33m(\u001b[0m\u001b[0ms\u001b[0m\u001b[1;33m[\u001b[0m\u001b[1;33m-\u001b[0m\u001b[1;36m100\u001b[0m\u001b[1;33m,\u001b[0m \u001b[1;36m100\u001b[0m\u001b[1;33m]\u001b[0m\u001b[1;33m)\u001b[0m\u001b[1;33m\u001b[0m\u001b[1;33m\u001b[0m\u001b[0m\n\u001b[0m",
      "\u001b[1;31mTypeError\u001b[0m: string indices must be integers"
     ]
    }
   ],
   "source": [
    "s = \"python\"\n",
    "\n",
    "print(s[-100, 100])"
   ]
  },
  {
   "cell_type": "markdown",
   "id": "ed52a74f",
   "metadata": {},
   "source": [
    "- 문자열 s의 인자가 integers가 아니기 때문에 에러가 발생했다.\n",
    "---"
   ]
  },
  {
   "cell_type": "markdown",
   "id": "63f22e50",
   "metadata": {},
   "source": [
    "### 4.D. s[1:-1]의 결과를 확인하고 그 결과에 대한 이유를 정확하게 설명하시오."
   ]
  },
  {
   "cell_type": "code",
   "execution_count": 32,
   "id": "23606766",
   "metadata": {},
   "outputs": [
    {
     "name": "stdout",
     "output_type": "stream",
     "text": [
      "ytho\n"
     ]
    }
   ],
   "source": [
    "s = \"python\"\n",
    "\n",
    "print(s[1 : -1])"
   ]
  },
  {
   "cell_type": "markdown",
   "id": "6c16b6c0",
   "metadata": {},
   "source": [
    "- s의 1번째 인덱스 y부터 -1번째 인덱스인 n 이전까지 출력되기 때문이다.\n",
    "---"
   ]
  },
  {
   "cell_type": "markdown",
   "id": "bd8886b7",
   "metadata": {},
   "source": [
    "### 4.E. s[3:-3]의 결과를 확인하고 그 결과에 대한 이유를 정확하게 설명하시오."
   ]
  },
  {
   "cell_type": "code",
   "execution_count": 35,
   "id": "9a700d23",
   "metadata": {},
   "outputs": [
    {
     "name": "stdout",
     "output_type": "stream",
     "text": [
      "\n"
     ]
    }
   ],
   "source": [
    "s = \"python\"\n",
    "\n",
    "print(s[3 : -3])"
   ]
  },
  {
   "cell_type": "markdown",
   "id": "e6c2de2e",
   "metadata": {},
   "source": [
    "- s의 3번째 인덱스와 -3번째 인덱스가 둘 다 h이기 때문에 위와 같은 결과가 나온다.\n",
    "---"
   ]
  },
  {
   "cell_type": "markdown",
   "id": "69d70110",
   "metadata": {},
   "source": [
    "### 5. for문을 활용하여 1부터 100사이의 홀수를 출력하시오."
   ]
  },
  {
   "cell_type": "code",
   "execution_count": 37,
   "id": "2ac4ee5c",
   "metadata": {},
   "outputs": [
    {
     "name": "stdout",
     "output_type": "stream",
     "text": [
      "1\n",
      "3\n",
      "5\n",
      "7\n",
      "9\n",
      "11\n",
      "13\n",
      "15\n",
      "17\n",
      "19\n",
      "21\n",
      "23\n",
      "25\n",
      "27\n",
      "29\n",
      "31\n",
      "33\n",
      "35\n",
      "37\n",
      "39\n",
      "41\n",
      "43\n",
      "45\n",
      "47\n",
      "49\n",
      "51\n",
      "53\n",
      "55\n",
      "57\n",
      "59\n",
      "61\n",
      "63\n",
      "65\n",
      "67\n",
      "69\n",
      "71\n",
      "73\n",
      "75\n",
      "77\n",
      "79\n",
      "81\n",
      "83\n",
      "85\n",
      "87\n",
      "89\n",
      "91\n",
      "93\n",
      "95\n",
      "97\n",
      "99\n"
     ]
    }
   ],
   "source": [
    "for i in range(1, 100, 2) : \n",
    "    print(i)"
   ]
  },
  {
   "cell_type": "markdown",
   "id": "49ac0b33",
   "metadata": {},
   "source": [
    "---"
   ]
  },
  {
   "cell_type": "markdown",
   "id": "2a3a808d",
   "metadata": {},
   "source": [
    "### 6. while문을 활용하여 1부터 100사이의 짝수의 합을 계산하여 출력하시오."
   ]
  },
  {
   "cell_type": "code",
   "execution_count": 43,
   "id": "7995a12b",
   "metadata": {},
   "outputs": [
    {
     "name": "stdout",
     "output_type": "stream",
     "text": [
      "2450\n"
     ]
    }
   ],
   "source": [
    "num = 0\n",
    "add = 0\n",
    "while(True) :\n",
    "    if num < 100 :\n",
    "        add += num\n",
    "        num += 2\n",
    "    if num == 100 :\n",
    "        break\n",
    "print(add)"
   ]
  },
  {
   "cell_type": "markdown",
   "id": "d1d2182a",
   "metadata": {},
   "source": [
    "---"
   ]
  },
  {
   "cell_type": "markdown",
   "id": "0ce4c5b1",
   "metadata": {},
   "source": [
    "### 7. 사용자로 부터 임의의 정수를 입력받고, 해당 숫자를 역순으로 출력하는 프로그램을 작성하시오."
   ]
  },
  {
   "cell_type": "code",
   "execution_count": 55,
   "id": "7edb9b65",
   "metadata": {},
   "outputs": [
    {
     "name": "stdout",
     "output_type": "stream",
     "text": [
      "정수를 입력하세요: 1234\n",
      "숫자 역순은 4321 입니다.\n"
     ]
    }
   ],
   "source": [
    "num = input(\"정수를 입력하세요: \")\n",
    "num = num[ : : -1]\n",
    "print(\"숫자 역순은\", int(num) , \"입니다.\")"
   ]
  },
  {
   "cell_type": "markdown",
   "id": "e80f6d6a",
   "metadata": {},
   "source": [
    "---"
   ]
  },
  {
   "cell_type": "markdown",
   "id": "02ca0f0e",
   "metadata": {},
   "source": [
    "### 8. 사용자로 부터 정수를 입력받아서 1부터 그 사이에 존재하는 소수 (Prime number)를 출력하는 파이썬 프로그램을 작성하시오."
   ]
  },
  {
   "cell_type": "code",
   "execution_count": 84,
   "id": "df2f0fec",
   "metadata": {},
   "outputs": [
    {
     "name": "stdout",
     "output_type": "stream",
     "text": [
      "정수를 입력하세요: 15\n",
      "2\n",
      "3\n",
      "5\n",
      "7\n",
      "11\n",
      "13\n"
     ]
    }
   ],
   "source": [
    "num = int(input(\"정수를 입력하세요: \"))\n",
    "for i in range(2, num) :\n",
    "    count = 0\n",
    "    for n in range(1, i + 1) :\n",
    "        if i % n == 0 :\n",
    "            count += 1\n",
    "    if count <= 2 :\n",
    "        print(i)"
   ]
  },
  {
   "cell_type": "markdown",
   "id": "64897715",
   "metadata": {},
   "source": [
    "---"
   ]
  },
  {
   "cell_type": "markdown",
   "id": "3393ffd5",
   "metadata": {},
   "source": [
    "### 9. Kevin과 Stuart는 게임을 한다. 규칙은 아래와 같다.\n",
    "- 두 플레이어에게 같은 string S가 주어진다.\n",
    "- 두 플레이어는 string S의 문자를 사용하여 substring을 만들어야 한다(중복 가능).\n",
    "- Stuart는 자음으로 시작하는 단어를 만들어야 한다.\n",
    "- Kevin은 모음으로 시작하는 단어를 만들어야 한다.\n",
    "- 게임은 두 플레이어가 만들 수 있는 모든 단어를 만들었을 때 끝난다.\n",
    "- 점수 계산 : substring 1개당 +1점을 획득한다."
   ]
  },
  {
   "cell_type": "markdown",
   "id": "19bf6e20",
   "metadata": {},
   "source": [
    "- 사용자로 부터 대문자로 이루어진 string S를 입력받고, 승자와 그의 점수를 출력하는 프로그램을 작성하시오."
   ]
  },
  {
   "cell_type": "code",
   "execution_count": 182,
   "id": "87036353",
   "metadata": {},
   "outputs": [
    {
     "name": "stdout",
     "output_type": "stream",
     "text": [
      "string S를 입력하세요: CARROT\n",
      "승자: Stuart 점수:  16\n"
     ]
    }
   ],
   "source": [
    "Vow = ['A', 'E', 'I', 'O', 'U']        # 알파벳 모음이 들어있는 리스트\n",
    "\n",
    "Kevin = []                             # Kevin이 만들 수 있는 모든 substring이 들어가는 리스트\n",
    "Stuart = []                            # Stuart가 만들 수 있는 모든 substring이 들어가는 리스트\n",
    "\n",
    "Count_Kevin = []                       # string S에서 모음의 인덱스 값이 들어가는 리스트\n",
    "Count_Stuart = []                      # string S에서 자음의 인덱스 값이 들어가는 리스트\n",
    "\n",
    "Set_Kevin = set()                      # Kevin의 substring의 중복을 없애기 위한 세트\n",
    "Set_Stuart = set()                     # Stuart의 substring의 중복을 없애기 위한 세트\n",
    "\n",
    "Set_To_List_Kevin = []                 # Kevin의 substring의 개수를 측정하기 위해 세트로부터 변환하는 리스트\n",
    "Set_To_List_Stuart = []                # Stuart의 substring의 개수를 측정하기 위해 세트로부터 변환하는 리스트\n",
    "\n",
    "Score_Kevin = 0                        # Kevin의 점수의 총합\n",
    "Score_Stuart = 0                       # Stuart의 점수의 총합\n",
    "\n",
    "S = input(\"string S를 입력하세요: \")\n",
    "\n",
    "for i in range(len(S)) :\n",
    "    for n in range(len(Vow)) :\n",
    "        if Vow[n] == S[i] :\n",
    "            Count_Kevin.append(i)\n",
    "            break\n",
    "        else :\n",
    "            Count_Stuart.append(i)\n",
    "            break\n",
    "                       \n",
    "for i in range(len(Count_Kevin)) :\n",
    "    for n in range(len(S) - Count_Kevin[0]) :\n",
    "        if Count_Kevin[i] < len(S) - n :\n",
    "            Kevin.append(S[Count_Kevin[i] : Count_Kevin[i] + (n + 1)])\n",
    "            Set_Kevin.add(S[Count_Kevin[i] : Count_Kevin[i] + (n + 1)])\n",
    "            \n",
    "for i in range(len(Count_Stuart)) :\n",
    "    for n in range(len(S) - Count_Stuart[0]) :\n",
    "        if Count_Stuart[i] < len(S) - n :\n",
    "            Stuart.append(S[Count_Stuart[i] : Count_Stuart[i] + (n + 1)])\n",
    "            Set_Stuart.add(S[Count_Stuart[i] : Count_Stuart[i] + (n + 1)])\n",
    "            \n",
    "Set_To_List_Kevin = list(Set_Kevin)\n",
    "Set_To_List_Stuart = list(Set_Stuart)\n",
    "\n",
    "for i in range(len(Set_To_List_Kevin)) :\n",
    "    Score_Kevin += Kevin.count(Set_To_List_Kevin[i])\n",
    "for i in range(len(Set_To_List_Stuart)) :\n",
    "    Score_Stuart += Stuart.count(Set_To_List_Stuart[i])\n",
    "        \n",
    "if Score_Kevin > Score_Stuart :\n",
    "    print(\"승자: Kevin 점수: \", Score_Kevin)\n",
    "elif Score_Kevin == Score_Stuart :\n",
    "    print(\"무승부\", Score_Kevin)\n",
    "print(\"승자: Stuart 점수: \", Score_Stuart)"
   ]
  },
  {
   "cell_type": "markdown",
   "id": "e71bf94a",
   "metadata": {},
   "source": [
    "---"
   ]
  },
  {
   "cell_type": "markdown",
   "id": "468428d0",
   "metadata": {},
   "source": [
    "### 10. 알파벳 소문자만으로 이루어진 string S가 주어지고 아래 2가지 연산을 수행할 수 있다.\n",
    "- 추가 : string S의 끝에 알파벳 소문자 하나를 추가한다.\n",
    "- 삭제 : string S의 마지막 문자 하나를 삭제한다. empty string에서 삭제 연산을 수행한 결과는 empty string이다."
   ]
  },
  {
   "cell_type": "markdown",
   "id": "c445a1bf",
   "metadata": {},
   "source": [
    "### 두 개의 string, s와 t, 그리고 정수 k가 주어질 때, 정확히 k번의 연산을 통해 s를 t로 바꿀 수 있는지 판단하는 함수를 작성하시오."
   ]
  },
  {
   "cell_type": "code",
   "execution_count": 298,
   "id": "943f4ab4",
   "metadata": {},
   "outputs": [
    {
     "name": "stdout",
     "output_type": "stream",
     "text": [
      "Yes\n"
     ]
    }
   ],
   "source": [
    "def appendDelete(s, t, k) :\n",
    "    \n",
    "    s_Len = len(s)\n",
    "    t_Len = len(t)\n",
    "    Compare_Spot = s_Len - 1\n",
    "    \n",
    "    if len(s) >= len(t) :\n",
    "        Min_Len = len(t)\n",
    "    else :\n",
    "        Min_Len = len(s)\n",
    "    \n",
    "    for i in range(Min_Len) :\n",
    "        if s[i] != t[i] :\n",
    "            Compare_Spot = i\n",
    "            break\n",
    "        else :\n",
    "            Compare_Spot = Min_Len\n",
    "\n",
    "    for i in range(len(s[Compare_Spot : ])) :\n",
    "        if k > 0 :\n",
    "            s = s[ : -1]\n",
    "            k -= 1\n",
    "    for i in range(len(t[Compare_Spot : ])) :\n",
    "        if k > 0 :\n",
    "            s += t[Compare_Spot + i]\n",
    "            k -= 1\n",
    "            \n",
    "    if s == t and k % 2 == 0:\n",
    "        return 'Yes'\n",
    "    elif k > len(s) :\n",
    "        return 'Yes'\n",
    "    else :\n",
    "        return 'No'\n",
    "    \n",
    "s = 'ashley'\n",
    "t = 'ash'\n",
    "\n",
    "print(appendDelete(s, t, 3))"
   ]
  },
  {
   "cell_type": "markdown",
   "id": "6194e498",
   "metadata": {},
   "source": [
    "---"
   ]
  },
  {
   "cell_type": "markdown",
   "id": "68c3da39",
   "metadata": {},
   "source": [
    "### 소감 : 1번부터 8번까지 문제는 금방 풀 수 있었지만, 9~10번 문제가 생각하는 것도 구현하는 것도 힘들고 오래걸렸지만 그만큼 실력 향상에 도움이 된 것 같습니다. "
   ]
  }
 ],
 "metadata": {
  "kernelspec": {
   "display_name": "Python 3",
   "language": "python",
   "name": "python3"
  },
  "language_info": {
   "codemirror_mode": {
    "name": "ipython",
    "version": 3
   },
   "file_extension": ".py",
   "mimetype": "text/x-python",
   "name": "python",
   "nbconvert_exporter": "python",
   "pygments_lexer": "ipython3",
   "version": "3.8.8"
  }
 },
 "nbformat": 4,
 "nbformat_minor": 5
}
